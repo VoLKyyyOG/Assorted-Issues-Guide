{
 "cells": [
  {
   "cell_type": "markdown",
   "metadata": {},
   "source": [
    "## Assorted Azure functions for Blob Storage\n",
    "This is the most up to date \"basic documentation\" for 2020. The official Microsoft docs are for the old implementation of `blob-storage`.\n",
    "\n",
    "Pre-req:\n",
    "```\n",
    "pip3 install azure-storage\n",
    "pip3 install pyodbc\n",
    "```\n",
    "\n",
    "https://docs.microsoft.com/en-us/python/api/azure-storage-blob/azure.storage.blob.baseblobservice.baseblobservice?view=azure-python-previous"
   ]
  },
  {
   "cell_type": "code",
   "execution_count": 1,
   "metadata": {},
   "outputs": [],
   "source": [
    "# get credentials on WSL environment securely\n",
    "azKey = !az storage account keys list --resource-group RESOURCE_GROUP_NAME --account-name ACCOUNT_NAME\n",
    "azStr = !az storage account show-connection-string --name NAME\n",
    "\n",
    "key = azKey[4].strip(' \"value:\": ')\n",
    "cnxnStr = azStr[1].strip(' \"connectionString\": ')"
   ]
  },
  {
   "cell_type": "code",
   "execution_count": 2,
   "metadata": {
    "ExecuteTime": {
     "end_time": "2020-04-02T04:00:14.717589Z",
     "start_time": "2020-04-02T04:00:14.463166Z"
    }
   },
   "outputs": [],
   "source": [
    "# azure storage API for image repo\n",
    "import os\n",
    "from azure.storage.blob import BlockBlobService, baseblobservice\n",
    "\n",
    "# constants\n",
    "container_name = 'test-images'\n",
    "# production contName = 'images'\n",
    "account_name = 'gs1images'\n",
    "\n",
    "URL = f'https://{account_name}.blob.core.windows.net'\n",
    "DIR = f'{container_name}'\n",
    "\n",
    "# connect to block blob service\n",
    "block_service = BlockBlobService(\n",
    "    account_key=key,\n",
    "    connection_string=cnxnStr\n",
    ")\n",
    "\n",
    "# connect to base blob service\n",
    "base_service = baseblobservice.BaseBlobService(\n",
    "    account_key=key,\n",
    "    connection_string=cnxnStr\n",
    ")"
   ]
  },
  {
   "cell_type": "markdown",
   "metadata": {},
   "source": [
    "### Uploading from local path"
   ]
  },
  {
   "cell_type": "code",
   "execution_count": null,
   "metadata": {
    "ExecuteTime": {
     "end_time": "2020-04-02T04:00:22.537839Z",
     "start_time": "2020-04-02T04:00:14.913009Z"
    }
   },
   "outputs": [],
   "source": [
    "# upload sample barcode stuff from an images directory\n",
    "for img_name in os.listdir(DIR):\n",
    "    print(f\"[Uploading]: {img_name}\")\n",
    "    fpath = os.path.join(DIR, img_name)\n",
    "    block_service.create_blob_from_path(container_name, img_name, fpath)"
   ]
  },
  {
   "cell_type": "markdown",
   "metadata": {},
   "source": [
    "### List all blobs in the blob storage"
   ]
  },
  {
   "cell_type": "code",
   "execution_count": null,
   "metadata": {
    "ExecuteTime": {
     "end_time": "2020-04-02T04:00:22.651706Z",
     "start_time": "2020-04-02T04:00:22.538836Z"
    }
   },
   "outputs": [],
   "source": [
    "# get/print a list of all images in the blob\n",
    "generator = base_service.list_blobs(container_name)\n",
    "print([i.name for i in generator])"
   ]
  },
  {
   "cell_type": "markdown",
   "metadata": {},
   "source": [
    "### Deleting blobs from storage"
   ]
  },
  {
   "cell_type": "markdown",
   "metadata": {},
   "source": [
    "```python\n",
    "# delete all blobs in an iterative manner\n",
    "generator = base_service.list_blobs(container_name)\n",
    "for img in generator:\n",
    "    base_service.delete_blob(container_name, img.name)\n",
    "```"
   ]
  },
  {
   "cell_type": "markdown",
   "metadata": {},
   "source": [
    "### Downloading blobs from storage"
   ]
  },
  {
   "cell_type": "code",
   "execution_count": null,
   "metadata": {
    "ExecuteTime": {
     "end_time": "2020-04-02T04:00:24.647194Z",
     "start_time": "2020-04-02T04:00:22.652704Z"
    }
   },
   "outputs": [],
   "source": [
    "# download all the blobs in a specified container\n",
    "DOWNLOAD = f'{container_name}-download'\n",
    "CWD = os.path.join(os.getcwd(), DOWNLOAD)\n",
    "generator = block_service.list_blobs(container_name)\n",
    "\n",
    "# create container_name-download\n",
    "os.makedirs(CWD, exist_ok=True)\n",
    "\n",
    "for img in generator:\n",
    "    print(f\"Downloading {img.name}\")\n",
    "    \n",
    "    # check if the path includes a structured folder\n",
    "    if '/' in img.name or '\\\\' in img.name:\n",
    "        head, tail = os.path.split(img.name)\n",
    "        print(f\"There is a folder path. Head: {head}, Tail: {tail}.\")\n",
    "        path = os.path.isdir(os.path.join(CWD, head))\n",
    "        \n",
    "        # if it doesnt exist, create it\n",
    "        if not path:\n",
    "            print(\"Creating the folder path as it does not exist.\")\n",
    "            os.makedirs(os.path.join(CWD, head), exist_ok=True)\n",
    "        \n",
    "        # download file\n",
    "        block_service.get_blob_to_path(container_name, img.name, os.path.join(path, tail))\n",
    "    else:\n",
    "        block_service.get_blob_to_path(container_name, img.name, os.path.join(CWD, img.name))"
   ]
  }
 ],
 "metadata": {
  "kernelspec": {
   "display_name": "Python 3",
   "language": "python",
   "name": "python3"
  },
  "language_info": {
   "codemirror_mode": {
    "name": "ipython",
    "version": 3
   },
   "file_extension": ".py",
   "mimetype": "text/x-python",
   "name": "python",
   "nbconvert_exporter": "python",
   "pygments_lexer": "ipython3",
   "version": "3.6.9"
  },
  "latex_envs": {
   "LaTeX_envs_menu_present": true,
   "autoclose": false,
   "autocomplete": true,
   "bibliofile": "biblio.bib",
   "cite_by": "apalike",
   "current_citInitial": 1,
   "eqLabelWithNumbers": true,
   "eqNumInitial": 1,
   "hotkeys": {
    "equation": "Ctrl-E",
    "itemize": "Ctrl-I"
   },
   "labels_anchors": false,
   "latex_user_defs": false,
   "report_style_numbering": false,
   "user_envs_cfg": false
  }
 },
 "nbformat": 4,
 "nbformat_minor": 4
}
