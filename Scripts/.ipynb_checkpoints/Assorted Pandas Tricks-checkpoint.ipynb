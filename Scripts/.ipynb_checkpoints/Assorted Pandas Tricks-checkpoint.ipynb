{
 "cells": [
  {
   "cell_type": "markdown",
   "metadata": {},
   "source": [
    "# General Notebook Tips"
   ]
  },
  {
   "cell_type": "markdown",
   "metadata": {},
   "source": [
    "Magic Cells:\n",
    "```bash\n",
    "%%time # times the cell execution\n",
    "%%bash # allows bash commands (or cmd) to be run\n",
    "%%html # renders html syntax\n",
    "```\n",
    "\n",
    "Keyboard shortcuts (of note):\n",
    "- Enter command mode pressing `esc` (blue highlight)\n",
    "- `a` to create a cell _above_\n",
    "- `b` to create a cell _below_\n",
    "- `dd` (double d) to delete a cell\n",
    "- `m` to make the cell render in markdown\n",
    "- `r` to make the cell render in raw text\n",
    "- `y` to make the cell render python code\n",
    "- `enter` to \"edit\" the cell"
   ]
  },
  {
   "cell_type": "markdown",
   "metadata": {},
   "source": [
    "# Commands"
   ]
  },
  {
   "cell_type": "markdown",
   "metadata": {},
   "source": [
    "Multiple conditions requires `&` and `|`"
   ]
  },
  {
   "cell_type": "code",
   "execution_count": null,
   "metadata": {},
   "outputs": [],
   "source": [
    "df.loc[(df[COL] == '') & (df[COL] == '')]\n",
    "df.loc[(df[COL] == '') | (df[COL] == '')]"
   ]
  },
  {
   "cell_type": "markdown",
   "metadata": {},
   "source": [
    "Fastest way to update dataframes with different values.\n",
    "- Requires `df` and `updated_df` to share the same index, or at least maintain the relationship\n",
    "- i.e idx 0 in `df` will be updated with the value in idx 0 of `updated_df`"
   ]
  },
  {
   "cell_type": "code",
   "execution_count": null,
   "metadata": {},
   "outputs": [],
   "source": [
    "df.update(updated_df)"
   ]
  },
  {
   "cell_type": "markdown",
   "metadata": {},
   "source": [
    "Easiest way to create a json from a dataframe"
   ]
  },
  {
   "cell_type": "code",
   "execution_count": null,
   "metadata": {},
   "outputs": [],
   "source": [
    "df.to_json(orient='records')"
   ]
  },
  {
   "cell_type": "markdown",
   "metadata": {},
   "source": [
    "How to create a dictionary from two columns the most efficient way and map them\n",
    "- `KEY` determines the column to be the key\n",
    "- `VALUE` determines the column to be the values mapped via the key"
   ]
  },
  {
   "cell_type": "code",
   "execution_count": null,
   "metadata": {},
   "outputs": [],
   "source": [
    "SOURCEID_TO_NEWID = id_df.set_index(KEY)[VALUE].to_dict()\n",
    "\n",
    "# map it to another df like this\n",
    "df['NewID'] = df['SourceID'].map(SOURCEID_TO_NEWID)"
   ]
  },
  {
   "cell_type": "markdown",
   "metadata": {},
   "source": [
    "Function over multiple columns"
   ]
  },
  {
   "cell_type": "code",
   "execution_count": null,
   "metadata": {},
   "outputs": [],
   "source": [
    "df[COL] = df.apply(lambda x: x[COL1] + \" \" x[COL2] if x[COL3] == '' else x[COL4], axis=1)"
   ]
  },
  {
   "cell_type": "markdown",
   "metadata": {},
   "source": [
    "How to use `.loc` properly:"
   ]
  },
  {
   "cell_type": "code",
   "execution_count": null,
   "metadata": {},
   "outputs": [],
   "source": [
    "df.loc[CONDITION, COL]\n",
    "\n",
    "df.loc[CONDITION, [COL1, COL2]]"
   ]
  },
  {
   "cell_type": "code",
   "execution_count": null,
   "metadata": {},
   "outputs": [],
   "source": []
  },
  {
   "cell_type": "code",
   "execution_count": null,
   "metadata": {},
   "outputs": [],
   "source": []
  }
 ],
 "metadata": {
  "kernelspec": {
   "display_name": "Python 3",
   "language": "python",
   "name": "python3"
  },
  "language_info": {
   "codemirror_mode": {
    "name": "ipython",
    "version": 3
   },
   "file_extension": ".py",
   "mimetype": "text/x-python",
   "name": "python",
   "nbconvert_exporter": "python",
   "pygments_lexer": "ipython3",
   "version": "3.8.5"
  }
 },
 "nbformat": 4,
 "nbformat_minor": 4
}
